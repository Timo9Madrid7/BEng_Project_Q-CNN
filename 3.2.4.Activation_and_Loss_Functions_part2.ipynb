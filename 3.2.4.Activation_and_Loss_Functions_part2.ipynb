{
 "cells": [
  {
   "cell_type": "code",
   "execution_count": 1,
   "metadata": {},
   "outputs": [],
   "source": [
    "import numpy as np"
   ]
  },
  {
   "cell_type": "code",
   "execution_count": 2,
   "metadata": {},
   "outputs": [
    {
     "name": "stdout",
     "output_type": "stream",
     "text": [
      " Num of inputs:  10 \n",
      " Num of classes:  10 \n",
      "\n",
      "y:\n",
      " [[4.17022005e-01 7.20324493e-01 1.14374817e-04 3.02332573e-01\n",
      "  1.46755891e-01 9.23385948e-02 1.86260211e-01 3.45560727e-01\n",
      "  3.96767474e-01 5.38816734e-01]\n",
      " [4.19194514e-01 6.85219500e-01 2.04452250e-01 8.78117436e-01\n",
      "  2.73875932e-02 6.70467510e-01 4.17304802e-01 5.58689828e-01\n",
      "  1.40386939e-01 1.98101489e-01]] \n",
      "\n",
      "y_hat:\n",
      " [[0.3266449  0.5270581  0.8859421  0.35726976 0.90853515 0.62336012\n",
      "  0.01582124 0.92943723 0.69089692 0.99732285]\n",
      " [0.17234051 0.13713575 0.93259546 0.69681816 0.06600017 0.75546305\n",
      "  0.75387619 0.92302454 0.71152476 0.12427096]]\n"
     ]
    }
   ],
   "source": [
    "# create the real and predicted data\n",
    "m = 10 # how many inputs\n",
    "k = 10 # how many categories\n",
    "\n",
    "Multi_or_Binary = True # True for multi-class, False for Binary-class\n",
    "\n",
    "np.random.seed(1) # set the seed to 1 in order to get the same result as mine\n",
    "\n",
    "y = np.random.random([m,k])\n",
    "y_hat = np.random.random([m,k])\n",
    "np.random.random()\n",
    "\n",
    "print(\" Num of inputs: \", m, '\\n', \"Num of classes: \", k, '\\n')\n",
    "print(\"y:\\n\", y[0:2,:], '\\n')\n",
    "print(\"y_hat:\\n\", y_hat[0:2,:])"
   ]
  },
  {
   "cell_type": "code",
   "execution_count": 3,
   "metadata": {},
   "outputs": [
    {
     "name": "stdout",
     "output_type": "stream",
     "text": [
      "Cross Entropy Error:  8.05562765939451\n",
      "Mean Square Error:  -0.956541466988608\n"
     ]
    }
   ],
   "source": [
    "# calculate the error\n",
    "\n",
    "if Multi_or_Binary:\n",
    "    J_CE = -1/m*np.sum(y*np.log2(y_hat))\n",
    "    print(\"Cross Entropy Error: \", J_CE)\n",
    "    J_MSE = -1/(2*m)*np.sum(np.square(y-y_hat))\n",
    "    print(\"Mean Square Error: \", J_MSE)\n",
    "else:\n",
    "    J = -1/m*np.sum(np.dot(y,np.log2(y_hat)+np.dot(1-y,np.log2(1-y_hat))))\n",
    "    print(\"Cross Entropy Error: \", J)        "
   ]
  }
 ],
 "metadata": {
  "kernelspec": {
   "display_name": "Python 3",
   "language": "python",
   "name": "python3"
  },
  "language_info": {
   "codemirror_mode": {
    "name": "ipython",
    "version": 3
   },
   "file_extension": ".py",
   "mimetype": "text/x-python",
   "name": "python",
   "nbconvert_exporter": "python",
   "pygments_lexer": "ipython3",
   "version": "3.7.3"
  },
  "toc": {
   "base_numbering": 1,
   "nav_menu": {},
   "number_sections": true,
   "sideBar": true,
   "skip_h1_title": false,
   "title_cell": "Table of Contents",
   "title_sidebar": "Contents",
   "toc_cell": false,
   "toc_position": {},
   "toc_section_display": true,
   "toc_window_display": false
  }
 },
 "nbformat": 4,
 "nbformat_minor": 2
}
