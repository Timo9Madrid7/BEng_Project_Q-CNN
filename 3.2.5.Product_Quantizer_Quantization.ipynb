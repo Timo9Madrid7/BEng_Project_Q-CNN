{
 "cells": [
  {
   "cell_type": "code",
   "execution_count": 1,
   "metadata": {},
   "outputs": [],
   "source": [
    "from sklearn.cluster import KMeans\n",
    "import matplotlib.pyplot as plt\n",
    "import numpy as np"
   ]
  },
  {
   "cell_type": "code",
   "execution_count": 2,
   "metadata": {},
   "outputs": [],
   "source": [
    "# create the K-means algorithm\n",
    "\n",
    "K_centroid = 5 # the number of centroids\n",
    "\n",
    "# configuration: \n",
    "# centroid number, initial select method, max iteration times\n",
    "Kmeans_cluster = KMeans(n_clusters=K_centroid,\n",
    "                        init='random',\n",
    "                        max_iter=300,\n",
    "                        verbose=0,\n",
    "                       )"
   ]
  },
  {
   "cell_type": "code",
   "execution_count": 3,
   "metadata": {},
   "outputs": [
    {
     "data": {
      "image/png": "[encoded data removed]",
      "text/plain": [
       "<Figure size 432x288 with 1 Axes>"
      ]
     },
     "metadata": {
      "needs_background": "light"
     },
     "output_type": "display_data"
    }
   ],
   "source": [
    "# create the data\n",
    "points = np.random.randn(100,2)\n",
    "\n",
    "plt.figure(1)\n",
    "for i in range(points.shape[0]):\n",
    "    plt.plot(points[i,0],points[i,1],'ro')\n",
    "plt.show()"
   ]
  },
  {
   "cell_type": "code",
   "execution_count": 4,
   "metadata": {},
   "outputs": [
    {
     "name": "stdout",
     "output_type": "stream",
     "text": [
      "Interations: 52.65480300554725\n"
     ]
    }
   ],
   "source": [
    "# apply the K-means to our data\n",
    "\n",
    "Kmeans_cluster.fit(points)\n",
    "centers = Kmeans_cluster.cluster_centers_\n",
    "labels = Kmeans_cluster.labels_\n",
    "print(\"Interations:\", Kmeans_cluster.inertia_)"
   ]
  },
  {
   "cell_type": "code",
   "execution_count": 5,
   "metadata": {},
   "outputs": [
    {
     "data": {
      "image/png": "[encoded data removed]",
      "text/plain": [
       "<Figure size 432x288 with 1 Axes>"
      ]
     },
     "metadata": {
      "needs_background": "light"
     },
     "output_type": "display_data"
    }
   ],
   "source": [
    "# Visualize the model\n",
    "\n",
    "colors = ['lightcoral','orange','red','olive','lawngreen','palegreen','royalblue','fuchsia']\n",
    "\n",
    "plt.figure(1)\n",
    "for i in range(points.shape[0]):\n",
    "    plt.plot(points[i,0],points[i,1],color=colors[labels[i]],marker='o')\n",
    "for k in range(K_centroid):\n",
    "    plt.plot(centers[k,0],centers[k,1],color=\"indigo\",marker='x',markersize=12)\n",
    "plt.show()"
   ]
  }
 ],
 "metadata": {
  "kernelspec": {
   "display_name": "Python 3",
   "language": "python",
   "name": "python3"
  },
  "language_info": {
   "codemirror_mode": {
    "name": "ipython",
    "version": 3
   },
   "file_extension": ".py",
   "mimetype": "text/x-python",
   "name": "python",
   "nbconvert_exporter": "python",
   "pygments_lexer": "ipython3",
   "version": "3.7.3"
  },
  "toc": {
   "base_numbering": 1,
   "nav_menu": {},
   "number_sections": true,
   "sideBar": true,
   "skip_h1_title": false,
   "title_cell": "Table of Contents",
   "title_sidebar": "Contents",
   "toc_cell": false,
   "toc_position": {},
   "toc_section_display": true,
   "toc_window_display": false
  }
 },
 "nbformat": 4,
 "nbformat_minor": 2
}
