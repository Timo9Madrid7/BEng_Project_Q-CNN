{
 "cells": [
  {
   "cell_type": "code",
   "execution_count": 1,
   "metadata": {},
   "outputs": [],
   "source": [
    "# import the PQ library\n",
    "import nanopq\n",
    "import numpy as np\n"
   ]
  },
  {
   "cell_type": "code",
   "execution_count": 2,
   "metadata": {},
   "outputs": [
    {
     "name": "stdout",
     "output_type": "stream",
     "text": [
      "M: 16, Ks: 256, code_dtype: <class 'numpy.uint8'>\n"
     ]
    }
   ],
   "source": [
    "# three sets:\n",
    "# 1. A set of vectors to eastablish the codebooks\n",
    "# 2. B set of vectors stored in the codebooks\n",
    "# 3. C vector as input to match B using codebooks\n",
    "\n",
    "A = np.random.random((5000,128)).astype(np.float32)\n",
    "B = np.random.random((1000,128)).astype(np.float32)\n",
    "C = np.random.random((128,)).astype(np.float32)\n",
    "\n",
    "# let us divide the D-dim vector into M D/M-dim sub-vectors like \n",
    "# -- what I tell you in the report. D =128, so, M=16 is ok\n",
    "\n",
    "PQ_model = nanopq.PQ(M=16,verbose=True,Ks=256) \n",
    "# Ks is the number of centroids/codewords\n"
   ]
  },
  {
   "cell_type": "code",
   "execution_count": 3,
   "metadata": {},
   "outputs": [
    {
     "name": "stdout",
     "output_type": "stream",
     "text": [
      "iter: 20, seed: 123\n",
      "Training the subspace: 0 / 16\n",
      "Training the subspace: 1 / 16\n",
      "Training the subspace: 2 / 16\n",
      "Training the subspace: 3 / 16\n",
      "Training the subspace: 4 / 16\n",
      "Training the subspace: 5 / 16\n",
      "Training the subspace: 6 / 16\n",
      "Training the subspace: 7 / 16\n",
      "Training the subspace: 8 / 16\n",
      "Training the subspace: 9 / 16\n",
      "Training the subspace: 10 / 16\n",
      "Training the subspace: 11 / 16\n",
      "Training the subspace: 12 / 16\n",
      "Training the subspace: 13 / 16\n",
      "Training the subspace: 14 / 16\n",
      "Training the subspace: 15 / 16\n"
     ]
    },
    {
     "data": {
      "text/plain": [
       "<nanopq.pq.PQ at 0x2361bc89048>"
      ]
     },
     "execution_count": 3,
     "metadata": {},
     "output_type": "execute_result"
    }
   ],
   "source": [
    "# train the codebooks using \n",
    "PQ_model.fit(vecs=A)"
   ]
  },
  {
   "cell_type": "code",
   "execution_count": 4,
   "metadata": {},
   "outputs": [
    {
     "name": "stdout",
     "output_type": "stream",
     "text": [
      "Encoding the subspace: 0 / 16\n",
      "Encoding the subspace: 1 / 16\n",
      "Encoding the subspace: 2 / 16\n",
      "Encoding the subspace: 3 / 16\n",
      "Encoding the subspace: 4 / 16\n",
      "Encoding the subspace: 5 / 16\n",
      "Encoding the subspace: 6 / 16\n",
      "Encoding the subspace: 7 / 16\n",
      "Encoding the subspace: 8 / 16\n",
      "Encoding the subspace: 9 / 16\n",
      "Encoding the subspace: 10 / 16\n",
      "Encoding the subspace: 11 / 16\n",
      "Encoding the subspace: 12 / 16\n",
      "Encoding the subspace: 13 / 16\n",
      "Encoding the subspace: 14 / 16\n",
      "Encoding the subspace: 15 / 16\n"
     ]
    }
   ],
   "source": [
    "# store the B set in the codebooks created by A\n",
    "B_coded = PQ_model.encode(vecs=B)"
   ]
  },
  {
   "cell_type": "code",
   "execution_count": 5,
   "metadata": {},
   "outputs": [
    {
     "name": "stdout",
     "output_type": "stream",
     "text": [
      "Nearest Distance: 32 \n",
      "\n",
      "uncoded distance: \n",
      " [20.726992 19.738802 22.424114 19.620779 19.47633  20.55486  21.331764\n",
      " 23.507294 20.310492 21.30023  22.427498 22.106554 17.488117 18.692114\n",
      " 20.640562 21.267162 20.217072 17.79092  20.226103 22.462055 24.6763\n",
      " 20.484758 20.36392  20.688475 20.12356  21.402916 15.433602 20.155504\n",
      " 22.414785 25.371351 19.62554  21.589298 15.312542 19.63754  23.725739\n",
      " 18.760262 21.229202 20.792973 24.02894  19.754118 25.791693 24.162994\n",
      " 23.17862  24.053587 19.894127 19.241997 18.651394 24.757994 23.034824\n",
      " 22.148046] ...\n",
      "\n",
      "coded distance: \n",
      " [18.471369 17.322048 20.500298 20.02109  15.615177 18.853142 18.181911\n",
      " 21.032352 18.866646 20.329819 20.926289 18.939331 15.339666 18.48221\n",
      " 19.166855 18.128036 18.17434  17.269482 18.37097  21.484402 19.783903\n",
      " 19.3694   20.71066  18.184486 18.637663 18.61584  14.463093 19.592861\n",
      " 19.97557  22.004116 19.414448 20.966934 13.167541 18.890781 20.37738\n",
      " 16.457333 19.905342 19.849943 23.224209 15.691105 22.603985 21.449146\n",
      " 21.219389 20.802893 19.924475 19.124046 16.759407 21.046398 22.140774\n",
      " 20.651836] ...\n"
     ]
    }
   ],
   "source": [
    "# retrieve for C\n",
    "C_distance = PQ_model.dtable(query=C).adist(codes=B_coded)\n",
    "# find the distance between vectors in B_coded and C\n",
    "\n",
    "min_C_distance = np.argmin(C_distance)\n",
    "print(\"Nearest Distance:\",min_C_distance,'\\n')\n",
    "\n",
    "print(\"uncoded distance: \\n\",(np.linalg.norm(B - C, axis=1) ** 2)[:50],'...\\n')\n",
    "print(\"coded distance: \\n\", C_distance[:50],'...')\n"
   ]
  },
  {
   "cell_type": "code",
   "execution_count": null,
   "metadata": {},
   "outputs": [],
   "source": []
  }
 ],
 "metadata": {
  "kernelspec": {
   "display_name": "Python 3",
   "language": "python",
   "name": "python3"
  },
  "language_info": {
   "codemirror_mode": {
    "name": "ipython",
    "version": 3
   },
   "file_extension": ".py",
   "mimetype": "text/x-python",
   "name": "python",
   "nbconvert_exporter": "python",
   "pygments_lexer": "ipython3",
   "version": "3.7.3"
  },
  "toc": {
   "base_numbering": 1,
   "nav_menu": {},
   "number_sections": true,
   "sideBar": true,
   "skip_h1_title": false,
   "title_cell": "Table of Contents",
   "title_sidebar": "Contents",
   "toc_cell": false,
   "toc_position": {},
   "toc_section_display": true,
   "toc_window_display": false
  }
 },
 "nbformat": 4,
 "nbformat_minor": 2
}
