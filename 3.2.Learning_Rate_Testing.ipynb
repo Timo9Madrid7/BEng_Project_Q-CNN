{
 "cells": [
  {
   "cell_type": "code",
   "execution_count": 1,
   "metadata": {},
   "outputs": [],
   "source": [
    "# The training set of the work is from https://github.com/zalandoresearch/fashion-mnist\n",
    "import tensorflow as tf\n",
    "import numpy as np\n",
    "from tensorflow import keras\n",
    "from tensorflow.keras import datasets\n"
   ]
  },
  {
   "cell_type": "code",
   "execution_count": 2,
   "metadata": {},
   "outputs": [
    {
     "name": "stdout",
     "output_type": "stream",
     "text": [
      "train input size:  (60000, 28, 28)\n",
      "test input size:  (10000, 28, 28)\n",
      "classes:  [0 1 2 3 4 5 6 7 8 9]\n"
     ]
    }
   ],
   "source": [
    " # download the fashion-mnist set from the dataset\n",
    "fashion_mnist = datasets.fashion_mnist\n",
    "\n",
    "# load the data from the data set and spererate them into two categories,\n",
    "# one for training, another for validating\n",
    "(train_images, train_lables), (test_images, test_lables) = fashion_mnist.load_data()\n",
    "\n",
    "# Acquire the shape of the data\n",
    "# it has 60000 28x28 images with 10 different classes \n",
    "print(\"train input size: \",train_images.shape)\n",
    "print(\"test input size: \",test_images.shape)\n",
    "print(\"classes: \", np.unique(train_lables))\n"
   ]
  },
  {
   "cell_type": "code",
   "execution_count": 3,
   "metadata": {},
   "outputs": [],
   "source": [
    "# Nomalize the data in order for fast computation\n",
    "train_images = train_images/255.0\n",
    "test_images = test_images/255.0 \n"
   ]
  },
  {
   "cell_type": "code",
   "execution_count": 4,
   "metadata": {},
   "outputs": [
    {
     "name": "stdout",
     "output_type": "stream",
     "text": [
      "Model: \"3.2_LearingRate\"\n",
      "_________________________________________________________________\n",
      "Layer (type)                 Output Shape              Param #   \n",
      "=================================================================\n",
      "flatten (Flatten)            (None, 784)               0         \n",
      "_________________________________________________________________\n",
      "dense (Dense)                (None, 512)               401920    \n",
      "_________________________________________________________________\n",
      "dense_1 (Dense)              (None, 10)                5130      \n",
      "=================================================================\n",
      "Total params: 407,050\n",
      "Trainable params: 407,050\n",
      "Non-trainable params: 0\n",
      "_________________________________________________________________\n"
     ]
    }
   ],
   "source": [
    "# Very basic model with only one hidden layer\n",
    "model = keras.Sequential(name=\"3.2_LearingRate\")\n",
    "model.add(keras.layers.Flatten(input_shape=(28,28)))\n",
    "model.add(keras.layers.Dense(units=512, activation='relu'))\n",
    "model.add(keras.layers.Dense(units=10, activation='softmax'))\n",
    "\n",
    "# Report the model\n",
    "model.summary()\n"
   ]
  },
  {
   "cell_type": "code",
   "execution_count": 5,
   "metadata": {},
   "outputs": [
    {
     "name": "stdout",
     "output_type": "stream",
     "text": [
      "The Learing Rate is 0.001\n",
      "Train on 60000 samples, validate on 10000 samples\n",
      "60000/60000 - 13s - loss: 0.4731 - accuracy: 0.8303 - val_loss: 0.4168 - val_accuracy: 0.8532\n",
      "training time:  12.888737678527832\n"
     ]
    }
   ],
   "source": [
    "from time import time\n",
    "\n",
    "# You can change the learning rate here!!!!\n",
    "LearningRate = 0.001\n",
    "print(\"The Learing Rate is\", LearningRate)\n",
    "\n",
    "# Model configuration\n",
    "model.compile(optimizer=tf.keras.optimizers.Adam(learning_rate=LearningRate),\n",
    "              loss='sparse_categorical_crossentropy',\n",
    "              metrics=[\"accuracy\"])\n",
    "\n",
    "# Start trainingá\n",
    "time_start = time()\n",
    "model.fit(x=train_images,y=train_lables,epochs=1,verbose=2,\n",
    "         validation_data=(test_images,test_lables))\n",
    "time_end = time()\n",
    "print(\"training time: \", time_end-time_start)\n"
   ]
  }
 ],
 "metadata": {
  "kernelspec": {
   "display_name": "Python 3",
   "language": "python",
   "name": "python3"
  },
  "language_info": {
   "codemirror_mode": {
    "name": "ipython",
    "version": 3
   },
   "file_extension": ".py",
   "mimetype": "text/x-python",
   "name": "python",
   "nbconvert_exporter": "python",
   "pygments_lexer": "ipython3",
   "version": "3.7.3"
  },
  "toc": {
   "base_numbering": 1,
   "nav_menu": {},
   "number_sections": true,
   "sideBar": true,
   "skip_h1_title": false,
   "title_cell": "Table of Contents",
   "title_sidebar": "Contents",
   "toc_cell": false,
   "toc_position": {},
   "toc_section_display": true,
   "toc_window_display": false
  }
 },
 "nbformat": 4,
 "nbformat_minor": 2
}
