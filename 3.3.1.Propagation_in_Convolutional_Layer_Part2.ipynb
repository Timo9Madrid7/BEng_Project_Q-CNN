{
 "cells": [
  {
   "cell_type": "code",
   "execution_count": 1,
   "metadata": {},
   "outputs": [],
   "source": [
    "import numpy as np\n",
    "import matplotlib.pyplot as plt\n"
   ]
  },
  {
   "cell_type": "code",
   "execution_count": 2,
   "metadata": {},
   "outputs": [],
   "source": [
    "# define the zero_pad function\n",
    "def zero_pad(X, pad):\n",
    "    \"\"\"\n",
    "    Pad with zeros all images of the dataset X.\n",
    "    \n",
    "    Argument:\n",
    "    X -- numpy array of shape (m, n_H, n_W, n_C) \n",
    "            m: the number of images; n_H: the height of images; \n",
    "            n_W: the width of images; n_C: the number of channels\n",
    "    pad -- integer, padding periphery number\n",
    "    \n",
    "    Returns:\n",
    "    X_pad -- padded image of shape (m, n_H + 2*pad, n_W + 2*pad, n_C)\n",
    "    \"\"\"\n",
    "    X_pad = np.pad(X,\n",
    "                  ((0,0), (pad,pad), (pad,pad), (0,0)), \n",
    "                  mode ='constant',\n",
    "                  constant_values = (0,0))\n",
    "    return X_pad\n",
    "\n",
    "# https://github.com/Timo9Madrid7/BEng_Project_Q-CNN/blob/master/3.3.1.Propagation_in_Convolutional_Layer.ipynb"
   ]
  },
  {
   "cell_type": "code",
   "execution_count": 3,
   "metadata": {},
   "outputs": [],
   "source": [
    "def conv_forward(A_prev, W, b, hparameters):\n",
    "    \"\"\"\n",
    "    Forward propagation for a convolution function\n",
    "    \n",
    "    Arguments:\n",
    "    A_prev -- output activations of the previous layer, \n",
    "        numpy array of shape (m, n_H_prev, n_W_prev, n_C_prev)\n",
    "    W -- Weights, numpy array of shape (f, f, n_C_prev, n_C)\n",
    "    b -- Biases, numpy array of shape (1, 1, 1, n_C)\n",
    "    hparameters -- python dictionary containing \"stride\" and \"pad\"\n",
    "        \n",
    "    Returns:\n",
    "    Z -- conv output, numpy array of shape (m, n_H, n_W, n_C)\n",
    "    cache -- cache of values needed for the conv_backward() function\n",
    "    \"\"\"\n",
    "    \n",
    "#   Retrieve dimensions from A_prev's shape  \n",
    "    (m, n_H_prev, n_W_prev, n_C_prev) = A_prev.shape\n",
    "    \n",
    "#   Retrieve dimensions from W's shape\n",
    "    (f, f, n_C_prev, n_C) = W.shape\n",
    "    \n",
    "#   Retrieve information from \"hparameters\" \n",
    "    pad = hparameters.get('pad') \n",
    "    stride = hparameters.get('stride')\n",
    "    \n",
    "#   Compute the dimensions of the CONV output volume using the formula given above.\n",
    "    n_H = int((n_H_prev-f+2*pad)/stride+1)\n",
    "    n_W = int((n_W_prev-f+2*pad)/stride+1)\n",
    "    \n",
    "#   Initialize the output volume Z with zeros.\n",
    "    Z = np.zeros([m, n_H, n_W, n_C])\n",
    "    \n",
    "#   Create A_prev_pad by padding A_prev\n",
    "    A_prev_pad = zero_pad(A_prev, pad)\n",
    "\n",
    "    for i in range(m):\n",
    "        a_prev_pad = A_prev_pad[i, :, :, :]\n",
    "        \n",
    "        for h in range(n_H):\n",
    "            vert_start = h * stride\n",
    "            vert_end = vert_start + f\n",
    "        \n",
    "            for w in range(n_W):\n",
    "                horiz_start = w * stride\n",
    "                horiz_end = horiz_start + f\n",
    "                \n",
    "                for c in range(n_C):\n",
    "                    a_prev_slice = a_prev_pad[vert_start:vert_end, horiz_start:horiz_end, :]\n",
    "                    weights = W[:, :, :, c]\n",
    "                    biases = b[:, :, :, c]\n",
    "                    \n",
    "                    Z[i, h, w, c] = (weights * a_prev_slice).sum() + biases\n",
    "                    \n",
    "    assert(Z.shape == (m, n_H, n_W, n_C))\n",
    "    \n",
    "    cache = (A_prev, W, b, hparameters)\n",
    "    \n",
    "    return Z, cache"
   ]
  },
  {
   "cell_type": "code",
   "execution_count": 4,
   "metadata": {},
   "outputs": [],
   "source": [
    "# apply the model on our IFM. Remember to add the same seed as I did so as to get the same result!\n",
    "np.random.seed(1)\n",
    "A_prev = np.random.randn(10,5,7,4)\n",
    "W = np.random.randn(3,3,4,8)\n",
    "b = np.random.randn(1,1,1,8)\n",
    "hparameters = {\"pad\" : 1,\n",
    "               \"stride\": 2}\n",
    "\n",
    "Z, cache_conv = conv_forward(A_prev, W, b, hparameters)"
   ]
  },
  {
   "cell_type": "code",
   "execution_count": 5,
   "metadata": {},
   "outputs": [
    {
     "data": {
      "image/png": "[encoded data removed]",
      "text/plain": [
       "<Figure size 1080x1080 with 4 Axes>"
      ]
     },
     "metadata": {
      "needs_background": "light"
     },
     "output_type": "display_data"
    },
    {
     "data": {
      "image/png": "[encoded data removed]",
      "text/plain": [
       "<Figure size 2160x2160 with 8 Axes>"
      ]
     },
     "metadata": {
      "needs_background": "light"
     },
     "output_type": "display_data"
    }
   ],
   "source": [
    "# let's see how it works with my first input image\n",
    "\n",
    "plt.figure(num=0, figsize=(15,15))\n",
    "for channel in range(A_prev.shape[3]):\n",
    "#     print(\"A_prev's 1st input channel:\",channel,'\\n',A_prev[0,:,:,channel],'\\n')\n",
    "    plt.subplot(1,A_prev.shape[3],channel+1)\n",
    "    plt.imshow(A_prev[0,:,:,channel])\n",
    "   \n",
    "plt.figure(num=1, figsize=(30,30))\n",
    "for channel in range(Z.shape[3]):\n",
    "#     print(\"Z 1st output channel:\",channel,'\\n',Z[0,:,:,channel],'\\n')\n",
    "    plt.subplot(1,Z.shape[3],channel+1)\n",
    "    plt.imshow(Z[0,:,:,channel])\n",
    "\n",
    "plt.show()\n"
   ]
  },
  {
   "cell_type": "code",
   "execution_count": null,
   "metadata": {},
   "outputs": [],
   "source": []
  }
 ],
 "metadata": {
  "kernelspec": {
   "display_name": "Python 3",
   "language": "python",
   "name": "python3"
  },
  "language_info": {
   "codemirror_mode": {
    "name": "ipython",
    "version": 3
   },
   "file_extension": ".py",
   "mimetype": "text/x-python",
   "name": "python",
   "nbconvert_exporter": "python",
   "pygments_lexer": "ipython3",
   "version": "3.7.3"
  },
  "toc": {
   "base_numbering": 1,
   "nav_menu": {},
   "number_sections": true,
   "sideBar": true,
   "skip_h1_title": false,
   "title_cell": "Table of Contents",
   "title_sidebar": "Contents",
   "toc_cell": false,
   "toc_position": {},
   "toc_section_display": true,
   "toc_window_display": false
  }
 },
 "nbformat": 4,
 "nbformat_minor": 2
}
