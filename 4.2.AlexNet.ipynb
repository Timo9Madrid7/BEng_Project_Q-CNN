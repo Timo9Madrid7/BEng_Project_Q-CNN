{
 "cells": [
  {
   "cell_type": "code",
   "execution_count": 1,
   "metadata": {},
   "outputs": [],
   "source": [
    "from tensorflow import keras\n",
    "from tensorflow.keras import layers"
   ]
  },
  {
   "cell_type": "code",
   "execution_count": 2,
   "metadata": {},
   "outputs": [
    {
     "name": "stdout",
     "output_type": "stream",
     "text": [
      "Model: \"AlexNet-5\"\n",
      "_________________________________________________________________\n",
      "Layer (type)                 Output Shape              Param #   \n",
      "=================================================================\n",
      "C1 (Conv2D)                  (None, 55, 55, 96)        34944     \n",
      "_________________________________________________________________\n",
      "B2 (BatchNormalization)      (None, 55, 55, 96)        384       \n",
      "_________________________________________________________________\n",
      "S3 (MaxPooling2D)            (None, 27, 27, 96)        0         \n",
      "_________________________________________________________________\n",
      "C4 (Conv2D)                  (None, 27, 27, 256)       614656    \n",
      "_________________________________________________________________\n",
      "B5 (BatchNormalization)      (None, 27, 27, 256)       1024      \n",
      "_________________________________________________________________\n",
      "S6 (MaxPooling2D)            (None, 13, 13, 256)       0         \n",
      "_________________________________________________________________\n",
      "C7 (Conv2D)                  (None, 13, 13, 384)       885120    \n",
      "_________________________________________________________________\n",
      "B8 (BatchNormalization)      (None, 13, 13, 384)       1536      \n",
      "_________________________________________________________________\n",
      "C9 (Conv2D)                  (None, 13, 13, 384)       1327488   \n",
      "_________________________________________________________________\n",
      "B10 (BatchNormalization)     (None, 13, 13, 384)       1536      \n",
      "_________________________________________________________________\n",
      "C11 (Conv2D)                 (None, 13, 13, 256)       884992    \n",
      "_________________________________________________________________\n",
      "B12 (BatchNormalization)     (None, 13, 13, 256)       1024      \n",
      "_________________________________________________________________\n",
      "S13 (MaxPooling2D)           (None, 6, 6, 256)         0         \n",
      "_________________________________________________________________\n",
      "S13_F14_Connection (Flatten) (None, 9216)              0         \n",
      "_________________________________________________________________\n",
      "F14 (Dense)                  (None, 4096)              37752832  \n",
      "_________________________________________________________________\n",
      "D15 (Dropout)                (None, 4096)              0         \n",
      "_________________________________________________________________\n",
      "F16 (Dense)                  (None, 4096)              16781312  \n",
      "_________________________________________________________________\n",
      "D17 (Dropout)                (None, 4096)              0         \n",
      "_________________________________________________________________\n",
      "F18 (Dense)                  (None, 1000)              4097000   \n",
      "=================================================================\n",
      "Total params: 62,383,848\n",
      "Trainable params: 62,381,096\n",
      "Non-trainable params: 2,752\n",
      "_________________________________________________________________\n"
     ]
    }
   ],
   "source": [
    "AlexNet = keras.Sequential(name='AlexNet-5')\n",
    "AlexNet.add(layers.Conv2D(96, kernel_size=(11,11), strides = 4, padding='valid', activation='relu',input_shape=(227,227,3),name='C1'))\n",
    "AlexNet.add(layers.BatchNormalization(name='B2'))\n",
    "AlexNet.add(layers.MaxPool2D(pool_size=(3,3), strides=2, name='S3'))\n",
    "AlexNet.add(layers.Conv2D(256, kernel_size=(5,5), padding='same', activation='relu', name='C4'))\n",
    "AlexNet.add(layers.BatchNormalization(name='B5'))\n",
    "AlexNet.add(layers.MaxPool2D(pool_size=(3,3), strides=2, name='S6'))\n",
    "AlexNet.add(layers.Conv2D(384, kernel_size=(3,3), padding='same', activation='relu', name='C7'))\n",
    "AlexNet.add(layers.BatchNormalization(name='B8'))\n",
    "AlexNet.add(layers.Conv2D(384, kernel_size=(3,3), padding='same', activation='relu', name='C9'))\n",
    "AlexNet.add(layers.BatchNormalization(name='B10'))\n",
    "AlexNet.add(layers.Conv2D(256, kernel_size=(3,3), padding='same', activation='relu', name='C11'))\n",
    "AlexNet.add(layers.BatchNormalization(name='B12'))\n",
    "AlexNet.add(layers.MaxPool2D(pool_size=(2,2), strides=2, name='S13'))\n",
    "AlexNet.add(layers.Flatten(name='S13_F14_Connection'))\n",
    "AlexNet.add(layers.Dense(4096, activation='relu', name='F14'))\n",
    "AlexNet.add(layers.Dropout(0.5, name='D15'))\n",
    "AlexNet.add(layers.Dense(4096, activation='relu', name='F16'))\n",
    "AlexNet.add(layers.Dropout(0.5, name='D17'))\n",
    "AlexNet.add(layers.Dense(1000, activation='softmax', name='F18'))\n",
    "\n",
    "AlexNet.summary()"
   ]
  },
  {
   "cell_type": "code",
   "execution_count": null,
   "metadata": {},
   "outputs": [],
   "source": []
  }
 ],
 "metadata": {
  "kernelspec": {
   "display_name": "Python 3",
   "language": "python",
   "name": "python3"
  },
  "language_info": {
   "codemirror_mode": {
    "name": "ipython",
    "version": 3
   },
   "file_extension": ".py",
   "mimetype": "text/x-python",
   "name": "python",
   "nbconvert_exporter": "python",
   "pygments_lexer": "ipython3",
   "version": "3.7.3"
  },
  "toc": {
   "base_numbering": 1,
   "nav_menu": {},
   "number_sections": true,
   "sideBar": true,
   "skip_h1_title": false,
   "title_cell": "Table of Contents",
   "title_sidebar": "Contents",
   "toc_cell": false,
   "toc_position": {},
   "toc_section_display": true,
   "toc_window_display": false
  }
 },
 "nbformat": 4,
 "nbformat_minor": 2
}
