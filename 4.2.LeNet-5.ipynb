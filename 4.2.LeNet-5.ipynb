{
 "cells": [
  {
   "cell_type": "code",
   "execution_count": 1,
   "metadata": {},
   "outputs": [],
   "source": [
    "from tensorflow import keras\n",
    "from tensorflow.keras import layers"
   ]
  },
  {
   "cell_type": "code",
   "execution_count": 2,
   "metadata": {},
   "outputs": [
    {
     "name": "stdout",
     "output_type": "stream",
     "text": [
      "Model: \"LeNet-5\"\n",
      "_________________________________________________________________\n",
      "Layer (type)                 Output Shape              Param #   \n",
      "=================================================================\n",
      "C1 (Conv2D)                  (None, 28, 28, 6)         156       \n",
      "_________________________________________________________________\n",
      "S2 (MaxPooling2D)            (None, 14, 14, 6)         0         \n",
      "_________________________________________________________________\n",
      "C3 (Conv2D)                  (None, 10, 10, 16)        2416      \n",
      "_________________________________________________________________\n",
      "S4 (MaxPooling2D)            (None, 5, 5, 16)          0         \n",
      "_________________________________________________________________\n",
      "C5 (Conv2D)                  (None, 1, 1, 120)         48120     \n",
      "_________________________________________________________________\n",
      "F6 (Dense)                   (None, 1, 1, 84)          10164     \n",
      "_________________________________________________________________\n",
      "Output_Layer (Dense)         (None, 1, 1, 10)          850       \n",
      "=================================================================\n",
      "Total params: 61,706\n",
      "Trainable params: 61,706\n",
      "Non-trainable params: 0\n",
      "_________________________________________________________________\n"
     ]
    }
   ],
   "source": [
    "LeNet = keras.Sequential(name='LeNet-5')\n",
    "LeNet.add(layers.Conv2D(6,kernel_size=(5,5),activation='sigmoid',name='C1',input_shape=(32,32,1)))\n",
    "LeNet.add(layers.MaxPooling2D(pool_size=(2,2),name='S2'))\n",
    "LeNet.add(layers.Conv2D(16,kernel_size=(5,5),activation='sigmoid',name='C3'))\n",
    "LeNet.add(layers.MaxPooling2D(pool_size=(2,2),name='S4'))\n",
    "LeNet.add(layers.Conv2D(120,kernel_size=(5,5),activation='sigmoid',name='C5'))\n",
    "LeNet.add(layers.Dense(84,activation='sigmoid',name='F6'))\n",
    "LeNet.add(layers.Dense(10,activation='softmax',name='Output_Layer'))\n",
    "\n",
    "LeNet.summary()"
   ]
  },
  {
   "cell_type": "code",
   "execution_count": null,
   "metadata": {},
   "outputs": [],
   "source": []
  }
 ],
 "metadata": {
  "kernelspec": {
   "display_name": "Python 3",
   "language": "python",
   "name": "python3"
  },
  "language_info": {
   "codemirror_mode": {
    "name": "ipython",
    "version": 3
   },
   "file_extension": ".py",
   "mimetype": "text/x-python",
   "name": "python",
   "nbconvert_exporter": "python",
   "pygments_lexer": "ipython3",
   "version": "3.7.3"
  },
  "toc": {
   "base_numbering": 1,
   "nav_menu": {},
   "number_sections": true,
   "sideBar": true,
   "skip_h1_title": false,
   "title_cell": "Table of Contents",
   "title_sidebar": "Contents",
   "toc_cell": false,
   "toc_position": {},
   "toc_section_display": true,
   "toc_window_display": false
  }
 },
 "nbformat": 4,
 "nbformat_minor": 2
}
